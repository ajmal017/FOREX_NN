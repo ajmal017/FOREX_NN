{
 "cells": [
  {
   "cell_type": "markdown",
   "metadata": {},
   "source": [
    "# Table of contents"
   ]
  },
  {
   "cell_type": "markdown",
   "metadata": {},
   "source": [
    "- Purpose\n",
    "\n",
    "- Synopsis\n",
    "\n",
    "- Analysis\n",
    "\n",
    "- Wayforward"
   ]
  },
  {
   "cell_type": "markdown",
   "metadata": {
    "ExecuteTime": {
     "end_time": "2020-06-21T09:50:18.467413Z",
     "start_time": "2020-06-21T09:50:18.365713Z"
    }
   },
   "source": [
    "# Purpose"
   ]
  },
  {
   "cell_type": "markdown",
   "metadata": {},
   "source": [
    "Predict the closing price for the next one hour of a time-series dataset for the Pound Sterling / US Dollar (GBPUSD) foreign exchange rate. \n",
    "The price is a measure of a currency compared to a base currency. \n",
    "\n",
    "With GBPUSD this mean how many dollars £1 can buy.\n",
    "\n",
    "Traders are buying and selling on the decentralized foreign exchange market 24 hours and 5 days per week. It is the largest market in the world with trillions of dollars being traded daily. Traders buy and sell the currencies based on market information in an attempt to make a profit when all sales are settled.\n"
   ]
  },
  {
   "cell_type": "markdown",
   "metadata": {},
   "source": [
    "# Synopsis"
   ]
  },
  {
   "cell_type": "markdown",
   "metadata": {},
   "source": [
    "The data is retrieved through an online platform called QuantConnect and is based on the historical data for GBPUSD from 19th March 2020 on the 1 hour resolution"
   ]
  },
  {
   "cell_type": "markdown",
   "metadata": {},
   "source": [
    "# Feature Selection\n"
   ]
  },
  {
   "cell_type": "markdown",
   "metadata": {
    "ExecuteTime": {
     "end_time": "2020-06-21T10:50:03.746604Z",
     "start_time": "2020-06-21T10:50:03.744408Z"
    }
   },
   "source": [
    "## Trading indicators\n",
    "\n",
    "Assumptions have been made about the criteria for investment. \n",
    "\n",
    "1 - The Relative Standard Deviation of the zipcode should be in the 0.6 quartile of the dataset.\n",
    "2 - This will then be further filtered by highest ROI and then 10 zip codes will be modeled and then from this 5 will be selected based on the quality of the projection.\n",
    "\n",
    "### Candlestick charts\n",
    " - Price is usually displayed so that the open, high, low and close of the time frame is visually represented a Japanese candlestick\n",
    " \n",
    "![candles](images/chart.png)\n",
    "\n",
    "### Bollinger Bands\n",
    " - Overlay of upper and lower bands from the bollinger indicator, this represents the upper and lower bounds of expected volatility.\n",
    " \n",
    "![bol](images/bolbands.png)\n",
    "\n",
    "### Exponential Moving Averages\n",
    " - Used for analysing the strength and speed of a trend in price.\n",
    " \n",
    "![ema](images/ema50_200.png)\n",
    "\n"
   ]
  },
  {
   "cell_type": "markdown",
   "metadata": {},
   "source": [
    "## LSTM model prediction"
   ]
  },
  {
   "cell_type": "markdown",
   "metadata": {},
   "source": [
    "Using the LSTM neural network a RMSE of 0.00212 ( 21 pips)  was achieved using 2 hidden layers, the first with 50 nodes and the second with 20 nodes and over 10 epochs.\n"
   ]
  },
  {
   "cell_type": "markdown",
   "metadata": {},
   "source": [
    "# Way forward"
   ]
  },
  {
   "cell_type": "markdown",
   "metadata": {},
   "source": [
    "- incorporate additional novel datasets that through web scraping and premium APIs, alternative data relating to financial markets is expensive.\n",
    "- Use multi output LSTMs to choose target close price and stop loss.\n",
    "- connect to brokers to place trades."
   ]
  },
  {
   "cell_type": "code",
   "execution_count": null,
   "metadata": {},
   "outputs": [],
   "source": []
  }
 ],
 "metadata": {
  "kernelspec": {
   "display_name": "learn-env",
   "language": "python",
   "name": "learn-env"
  },
  "language_info": {
   "codemirror_mode": {
    "name": "ipython",
    "version": 3
   },
   "file_extension": ".py",
   "mimetype": "text/x-python",
   "name": "python",
   "nbconvert_exporter": "python",
   "pygments_lexer": "ipython3",
   "version": "3.6.8"
  },
  "toc": {
   "base_numbering": 1,
   "nav_menu": {},
   "number_sections": true,
   "sideBar": true,
   "skip_h1_title": false,
   "title_cell": "Table of Contents",
   "title_sidebar": "Contents",
   "toc_cell": false,
   "toc_position": {},
   "toc_section_display": true,
   "toc_window_display": true
  },
  "varInspector": {
   "cols": {
    "lenName": 16,
    "lenType": 16,
    "lenVar": 40
   },
   "kernels_config": {
    "python": {
     "delete_cmd_postfix": "",
     "delete_cmd_prefix": "del ",
     "library": "var_list.py",
     "varRefreshCmd": "print(var_dic_list())"
    },
    "r": {
     "delete_cmd_postfix": ") ",
     "delete_cmd_prefix": "rm(",
     "library": "var_list.r",
     "varRefreshCmd": "cat(var_dic_list()) "
    }
   },
   "types_to_exclude": [
    "module",
    "function",
    "builtin_function_or_method",
    "instance",
    "_Feature"
   ],
   "window_display": false
  }
 },
 "nbformat": 4,
 "nbformat_minor": 2
}
